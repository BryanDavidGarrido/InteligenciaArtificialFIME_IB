{
  "nbformat": 4,
  "nbformat_minor": 0,
  "metadata": {
    "colab": {
      "name": "IA_Ejercicio1_BryanDavid_1841262",
      "provenance": [],
      "authorship_tag": "ABX9TyMRBM61r9bMFEQ3BYRd+dsT",
      "include_colab_link": true
    },
    "kernelspec": {
      "name": "python3",
      "display_name": "Python 3"
    },
    "language_info": {
      "name": "python"
    }
  },
  "cells": [
    {
      "cell_type": "markdown",
      "metadata": {
        "id": "view-in-github",
        "colab_type": "text"
      },
      "source": [
        "<a href=\"https://colab.research.google.com/github/BryanDavidGarrido/InteligenciaArtificialFIME_IB/blob/main/IA_Ejercicio1_BryanDavid_1841262.ipynb\" target=\"_parent\"><img src=\"https://colab.research.google.com/assets/colab-badge.svg\" alt=\"Open In Colab\"/></a>"
      ]
    },
    {
      "cell_type": "code",
      "metadata": {
        "id": "MoZgBNV4eMiH"
      },
      "source": [
        "#Actividad 2: Ejercicios Introducción Python\n",
        "#Nombre: Bryan David Garrido\n",
        "#Matrícula: 1841262\n",
        "#Hora: Martes N4"
      ],
      "execution_count": 1,
      "outputs": []
    },
    {
      "cell_type": "code",
      "metadata": {
        "colab": {
          "base_uri": "https://localhost:8080/"
        },
        "id": "MLfy6J6H9EnB",
        "outputId": "e8459ba2-267c-4a40-b1e1-5bc2b638accd"
      },
      "source": [
        "#Ejercicio 1\n",
        "#Se le pregunta al usuario lo solicitado, y se guarda cada respuesta en su respectiva variable\n",
        "nombre= input(\"Introduzca su nombre: \")\n",
        "edad= input(\"Introduzca su edad: \")\n",
        "frase= input(\"Introduzca su frase favorita: \")\n",
        "autor= input(\"Introduzca el autor de la frase: \")\n",
        "#Se imprime en un mensaje compuesto las respuestas obtenidas\n",
        "print(f\"{nombre}, {edad}, su frase favorita es: {frase}, dicha por {autor}\")"
      ],
      "execution_count": 2,
      "outputs": [
        {
          "output_type": "stream",
          "name": "stdout",
          "text": [
            "Introduzca su nombre: Bryan David Garrido\n",
            "Introduzca su edad: 20\n",
            "Introduzca su frase favorita: La matemática pura es, a su manera, la poesía de las ideas lógicas\n",
            "Introduzca el autor de la frase: Albert Einstein\n",
            "Bryan David Garrido, 20, su frase favorita es: La matemática pura es, a su manera, la poesía de las ideas lógicas, dicha por Albert Einstein\n"
          ]
        }
      ]
    },
    {
      "cell_type": "code",
      "metadata": {
        "colab": {
          "base_uri": "https://localhost:8080/"
        },
        "id": "rYor-Zgjz4WR",
        "outputId": "fde6950c-e91d-460b-b431-aeca2bc148b4"
      },
      "source": [
        "#Ejercicio 2\n",
        "#Se solicitan dos números enteros y dos números flotantes y se guardan\n",
        "entero1= int(input(\"Introduzca un número entero: \"))\n",
        "entero2= int(input(\"Introduzca otro número entero: \"))\n",
        "flotante1= float(input(\"Introduzca un número flotante: \"))\n",
        "flotante2= float(input(\"Introduzca otro número flotante: \"))\n",
        "#Se imprimen dos mensajes\n",
        "#Uno con la suma, resta, multiplicación y división de los dos números enteros\n",
        "#Otro con la suma, resta, multiplicación y división de los dos números flotantes\n",
        "print(f\"Para los enteros. Suma: {entero1+entero2}. Resta: {entero1-entero2}. Multiplicación: {entero1*entero2}. División: {entero1/entero2}.\")\n",
        "print(f\"Para los flotantes. Suma: {flotante1+flotante2}. Resta: {flotante1-flotante2}. Multiplicación: {flotante1*flotante2}. División: {flotante1/flotante2}.\")"
      ],
      "execution_count": 3,
      "outputs": [
        {
          "output_type": "stream",
          "name": "stdout",
          "text": [
            "Introduzca un número entero: 10\n",
            "Introduzca otro número entero: 15\n",
            "Introduzca un número flotante: 11.20\n",
            "Introduzca otro número flotante: 16.70\n",
            "Para los enteros. Suma: 25. Resta: -5. Multiplicación: 150. División: 0.6666666666666666.\n",
            "Para los flotantes. Suma: 27.9. Resta: -5.5. Multiplicación: 187.04. División: 0.6706586826347305.\n"
          ]
        }
      ]
    },
    {
      "cell_type": "code",
      "metadata": {
        "colab": {
          "base_uri": "https://localhost:8080/"
        },
        "id": "IcPyouNuCKjJ",
        "outputId": "c6b45d25-0d96-425c-db0e-b1eb4313c1f4"
      },
      "source": [
        "#Ejercicio 3\n",
        "x= int(input(\"Introduzca un valor entero para x: \"))\n",
        "y= int(input(\"Introduzca un valor entero para y: \"))\n",
        "print(\"x<y and x>15\")\n",
        "print(f\"{x<y and x>15}\")\n",
        "print(\"x>11 and y>20\")\n",
        "print(f\"{x>11 and y>20}\")\n",
        "print(\"x<y or x>15\")\n",
        "print(f\"{x<y or x>15}\")\n",
        "print(\"x>11 or y>20\")\n",
        "print(f\"{x>11 or y>20}\")\n",
        "print(\"not (x<y)\")\n",
        "print(f\"{not (x<y)}\")\n",
        "print(\"not (x>15)\")\n",
        "print(f\"{not (x>15)}\")"
      ],
      "execution_count": 4,
      "outputs": [
        {
          "output_type": "stream",
          "name": "stdout",
          "text": [
            "Introduzca un valor entero para x: 33\n",
            "Introduzca un valor entero para y: 12\n",
            "x<y and x>15\n",
            "False\n",
            "x>11 and y>20\n",
            "False\n",
            "x<y or x>15\n",
            "True\n",
            "x>11 or y>20\n",
            "True\n",
            "not (x<y)\n",
            "True\n",
            "not (x>15)\n",
            "False\n"
          ]
        }
      ]
    }
  ]
}