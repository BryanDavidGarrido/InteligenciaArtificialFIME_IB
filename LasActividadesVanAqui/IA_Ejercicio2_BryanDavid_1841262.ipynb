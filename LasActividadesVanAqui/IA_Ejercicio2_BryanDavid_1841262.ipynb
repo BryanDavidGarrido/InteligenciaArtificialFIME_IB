{
  "nbformat": 4,
  "nbformat_minor": 0,
  "metadata": {
    "colab": {
      "name": "IA_Ejercicio2_BryanDavid_1841262.ipynb",
      "provenance": [],
      "collapsed_sections": []
    },
    "kernelspec": {
      "name": "python3",
      "display_name": "Python 3"
    },
    "language_info": {
      "name": "python"
    }
  },
  "cells": [
    {
      "cell_type": "code",
      "metadata": {
        "id": "u9oxZtYbPtPa"
      },
      "source": [
        "#Actividad 3: Ejercicios Introducción Python, 2da parte\n",
        "#Nombre: Bryan David Garrido\n",
        "#Matrícula: 1841262\n",
        "#Hora: Martes N4"
      ],
      "execution_count": 1,
      "outputs": []
    },
    {
      "cell_type": "code",
      "metadata": {
        "colab": {
          "base_uri": "https://localhost:8080/"
        },
        "id": "zGy8KmN0PwDs",
        "outputId": "b5c0d5e0-edc0-4b4e-d18b-53122b3382f5"
      },
      "source": [
        "#Ejercicio 1.1\n",
        "#El programa pregunta 7 comidas que le gusten\n",
        "#Se crea una lista que pregunte por la comida numero i y la almacene\n",
        "#se utiliza un for que tenga de rango 7 (que vaya del 0 al 6)\n",
        "comidas= [input(f'Introduzca la comida número {i+1}: ') for i in range(7)]\n",
        "#Para imprimir las comidas se utiliza el ciclo for de la siguiente manera\n",
        "for x in comidas:\n",
        "  print(x)"
      ],
      "execution_count": 2,
      "outputs": [
        {
          "output_type": "stream",
          "name": "stdout",
          "text": [
            "Introduzca la comida número 1: Pizza\n",
            "Introduzca la comida número 2: Pollo asado\n",
            "Introduzca la comida número 3: Tacos\n",
            "Introduzca la comida número 4: Hamburguesa\n",
            "Introduzca la comida número 5: Lasagna\n",
            "Introduzca la comida número 6: Ensalada de atun\n",
            "Introduzca la comida número 7: Sandwich\n",
            "Pizza\n",
            "Pollo asado\n",
            "Tacos\n",
            "Hamburguesa\n",
            "Lasagna\n",
            "Ensalada de atun\n",
            "Sandwich\n"
          ]
        }
      ]
    },
    {
      "cell_type": "code",
      "metadata": {
        "colab": {
          "base_uri": "https://localhost:8080/"
        },
        "id": "d-KHKM2NPyB8",
        "outputId": "a58de472-d09c-4e6e-a338-9cd21ab23127"
      },
      "source": [
        "#Ejercicio 1.2\n",
        "#El programa pregunta 7 comidas que le gusten\n",
        "#Se crea una lista que pregunte por la comida numero i y la almacene\n",
        "#se utiliza un for que tenga de rango 7 (que vaya del 0 al 6)\n",
        "comidas= [input(f'Introduzca la comida número {i+1}: ') for i in range(7)]\n",
        "#Para imprimir las comidas junto con una oración se utiliza el ciclo for de la siguiente manera\n",
        "for x in comidas:\n",
        "  print(f'Se me antoja comer {x}')"
      ],
      "execution_count": 3,
      "outputs": [
        {
          "output_type": "stream",
          "name": "stdout",
          "text": [
            "Introduzca la comida número 1: Pizza\n",
            "Introduzca la comida número 2: Pollo asado\n",
            "Introduzca la comida número 3: Tacos\n",
            "Introduzca la comida número 4: Hamburguesa\n",
            "Introduzca la comida número 5: Lasagna\n",
            "Introduzca la comida número 6: Ensalada de atun\n",
            "Introduzca la comida número 7: Sandwich\n",
            "Se me antoja comer Pizza\n",
            "Se me antoja comer Pollo asado\n",
            "Se me antoja comer Tacos\n",
            "Se me antoja comer Hamburguesa\n",
            "Se me antoja comer Lasagna\n",
            "Se me antoja comer Ensalada de atun\n",
            "Se me antoja comer Sandwich\n"
          ]
        }
      ]
    },
    {
      "cell_type": "code",
      "metadata": {
        "colab": {
          "base_uri": "https://localhost:8080/"
        },
        "id": "J3PhC0W9P0Ik",
        "outputId": "b6844d4a-6a98-49f3-ec69-fd9018d3dbd2"
      },
      "source": [
        "#Ejercicio 2\n",
        "#Juego de piedra, papel o tijera de dos jugadores\n",
        "#Se muestran las opciones a elegir para el jugador 1 y se guarda su respuesta\n",
        "print(f'Opciones: 1)Piedra, 2)Papel, 3)Tijera')\n",
        "jugador1= int (input(f'Introduzca el número de la opción deseada: '))\n",
        "#Se muestran las opciones a elegir para el jugador 2 y se guarda su respuesta\n",
        "print(f'Opciones: 1)Piedra, 2)Papel, 3)Tijera')\n",
        "jugador2= int (input(f'Introduzca el número de la opción deseada: '))\n",
        "#Comparamos respuestas para escoger ganador\n",
        "if jugador1==jugador2:\n",
        "  print('Empataron')\n",
        "#Analizamos casos donde gana jugador1\n",
        "elif jugador1 == 1 and jugador2 == 3:\n",
        "  print('El jugador 1 ha ganado')\n",
        "elif jugador1 == 2 and jugador2 == 1:\n",
        "  print('El jugado3r 1 ha ganado')\n",
        "elif jugador1 == 3 and jugador2 == 2:\n",
        "  print('El jugador 1 ha ganado')      \n",
        "#Cualquier caso que no este establecido en las condiciones anteriores provoca que gane el jugador 2\n",
        "else:\n",
        "  print('El jugador 2 ha ganado')"
      ],
      "execution_count": 6,
      "outputs": [
        {
          "output_type": "stream",
          "name": "stdout",
          "text": [
            "Opciones: 1)Piedra, 2)Papel, 3)Tijera\n",
            "Introduzca el número de la opción deseada: 1\n",
            "Opciones: 1)Piedra, 2)Papel, 3)Tijera\n",
            "Introduzca el número de la opción deseada: 3\n",
            "El jugador 1 ha ganado\n"
          ]
        }
      ]
    },
    {
      "cell_type": "code",
      "metadata": {
        "colab": {
          "base_uri": "https://localhost:8080/"
        },
        "id": "C4gFE-cSVv_l",
        "outputId": "07c77a9f-4ca5-4b2c-ab23-c8bc86f60deb"
      },
      "source": [
        "#Ejercicio 3\n",
        "#Programa que imprima el patrón deseado\n",
        "#Se crea una lista con el patrón deeseado\n",
        "patron= [123456,12345,1234,123,12,1,12,123,1234,12345,123456]\n",
        "#Usamos ciclo for para imprimir el patron de la siguiente manera\n",
        "for x in patron:\n",
        "  print(x)"
      ],
      "execution_count": 9,
      "outputs": [
        {
          "output_type": "stream",
          "name": "stdout",
          "text": [
            "123456\n",
            "12345\n",
            "1234\n",
            "123\n",
            "12\n",
            "1\n",
            "12\n",
            "123\n",
            "1234\n",
            "12345\n",
            "123456\n"
          ]
        }
      ]
    }
  ]
}