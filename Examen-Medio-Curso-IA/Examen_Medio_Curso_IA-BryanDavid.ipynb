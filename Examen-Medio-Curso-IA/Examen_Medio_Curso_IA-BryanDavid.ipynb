{
  "nbformat": 4,
  "nbformat_minor": 0,
  "metadata": {
    "colab": {
      "name": "Examen-Medio-Curso-IA.ipynb",
      "provenance": []
    },
    "kernelspec": {
      "name": "python3",
      "display_name": "Python 3"
    },
    "language_info": {
      "name": "python"
    }
  },
  "cells": [
    {
      "cell_type": "code",
      "metadata": {
        "id": "3G83CUKN8OaN"
      },
      "source": [
        "#Examen Medio Curso: Ejercicios Introducción Python, 2da parte\n",
        "#Nombre: Bryan David Garrido\n",
        "#Matrícula: 1841262\n",
        "#Hora: Martes N4"
      ],
      "execution_count": 1,
      "outputs": []
    },
    {
      "cell_type": "code",
      "metadata": {
        "colab": {
          "base_uri": "https://localhost:8080/"
        },
        "id": "uAFiLHr18y9V",
        "outputId": "b273c263-4487-41db-a08c-e4b84ec4f9b1"
      },
      "source": [
        "#Ejercicio 1.1\n",
        "#Se le solicita al usuario un numero al azar entero positivo y se guarda su respuesta en una variable\n",
        "numero = int (input(\"Introduzca un numero entero positivo: \"))\n",
        "#Se crea una variable que se usara para realizar la suma, iniciandola en 0\n",
        "suma = 0\n",
        "#Se crea un ciclo en el cual se realiza la suma de numeros hasta llegar al valor del numero dado\n",
        "for i in range(1, numero+1):\n",
        "  suma = suma + i \n",
        "print(f'El resultado de la suma de todos los numeros desde el 1 hasta el {numero} es: {suma}')"
      ],
      "execution_count": 14,
      "outputs": [
        {
          "output_type": "stream",
          "name": "stdout",
          "text": [
            "Introduzca un numero entero positivo: 4\n",
            "El resultado de la suma de todos los numeros desde el 1 hasta el 4 es: 10\n"
          ]
        }
      ]
    },
    {
      "cell_type": "code",
      "metadata": {
        "colab": {
          "base_uri": "https://localhost:8080/"
        },
        "id": "EacrFIAoCYvF",
        "outputId": "25e61002-40b0-467d-eea4-18ed07157dbf"
      },
      "source": [
        "#Ejericico 1.2\n",
        "#Se solicita el valor inicial y final de un rango de numeros y se guardan en variables\n",
        "#En este caso se ingresa los valores dados en las instrucciones de 6 y 31\n",
        "inicio = int (input(\"Introduzca el valor inicial de un rango de numeros: \"))\n",
        "final = int (input(\"Introduzca el valor final de un rango de numeros: \"))\n",
        "#Se crea la lista con el rango de valores dado\n",
        "lista = list (range(inicio, final+1))\n",
        "#Se usa el ciclo for para evaluar los valores de la lista pares y se imprimen los que sean pares\n",
        "for i in lista:\n",
        "  if i%2==0:\n",
        "    print(i)\n"
      ],
      "execution_count": 19,
      "outputs": [
        {
          "output_type": "stream",
          "name": "stdout",
          "text": [
            "Introduzca el valor inicial de un rango de numeros: 6\n",
            "Introduzca el valor final de un rango de numeros: 31\n",
            "6\n",
            "8\n",
            "10\n",
            "12\n",
            "14\n",
            "16\n",
            "18\n",
            "20\n",
            "22\n",
            "24\n",
            "26\n",
            "28\n",
            "30\n"
          ]
        }
      ]
    }
  ]
}